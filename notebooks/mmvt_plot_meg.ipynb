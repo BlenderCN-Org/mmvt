{
 "cells": [
  {
   "cell_type": "code",
   "execution_count": null,
   "metadata": {},
   "outputs": [],
   "source": [
    "import os\n",
    "os.chdir('..')\n",
    "from src.mmvt_addon.scripts import run_mmvt\n",
    "mmvt = run_mmvt.run(subject='sample', atlas='dkt', run_in_background=False)"
   ]
  },
  {
   "cell_type": "code",
   "execution_count": null,
   "metadata": {},
   "outputs": [],
   "source": [
    "import os.path as op\n",
    "import mne\n",
    "\n",
    "mne_sample_data_fol = mne.datasets.sample.data_path()\n",
    "stc_fname = op.join(mne_sample_data_fol, 'MEG', 'sample', 'sample_audvis-meg-rh.stc')\n",
    "mmvt.show_sagital('left')\n",
    "stc_fname, _ = mmvt.plot_stc(stc_fname, t=10, threshold=3, cb_percentiles=(1,99), save_image=True)"
   ]
  },
  {
   "cell_type": "code",
   "execution_count": null,
   "metadata": {},
   "outputs": [],
   "source": [
    "import time\n",
    "from IPython.display import Image\n",
    "time.sleep(10)\n",
    "Image(filename=stc_fname)"
   ]
  }
 ],
 "metadata": {
  "kernelspec": {
   "display_name": "Python 3",
   "language": "python",
   "name": "python3"
  },
  "language_info": {
   "codemirror_mode": {
    "name": "ipython",
    "version": 3
   },
   "file_extension": ".py",
   "mimetype": "text/x-python",
   "name": "python",
   "nbconvert_exporter": "python",
   "pygments_lexer": "ipython3",
   "version": "3.6.3"
  }
 },
 "nbformat": 4,
 "nbformat_minor": 2
}
